{
 "cells": [
  {
   "cell_type": "markdown",
   "id": "414cb614",
   "metadata": {},
   "source": [
    "# Water Jug Problem using Stack"
   ]
  },
  {
   "cell_type": "code",
   "execution_count": 1,
   "id": "b9b5869a-dbf3-4712-af33-22ea21d1edc2",
   "metadata": {},
   "outputs": [],
   "source": [
    "from collections import deque"
   ]
  },
  {
   "cell_type": "code",
   "execution_count": 2,
   "id": "6fa1cb94",
   "metadata": {},
   "outputs": [],
   "source": [
    "def waterJugProblem(capacity1, capacity2, goal):\n",
    "    stack = deque()\n",
    "    visited = set()\n",
    "\n",
    "    stack.append((0, 0, []))\n",
    "    visited.add((0, 0))\n",
    "\n",
    "    while stack:\n",
    "        jug1, jug2, path = stack.pop()\n",
    "\n",
    "        if jug1 == goal or jug2 == goal:\n",
    "            print(\"Solution Found!\")\n",
    "            print(\"\\nSteps:\")\n",
    "            for step in path:\n",
    "                print(step)\n",
    "            print(f\"Final State: ({jug1}, {jug2})\")\n",
    "            return True\n",
    "\n",
    "        next_states = []\n",
    "\n",
    "        if jug1 < capacity1:\n",
    "            new_state = (capacity1, jug2)\n",
    "            action = \"Fill 4-gallon jug (Rule 1)\"\n",
    "            next_states.append((new_state, action))\n",
    "\n",
    "        if jug2 < capacity2:\n",
    "            new_state = (jug1, capacity2)\n",
    "            action = \"Fill 3-gallon jug (Rule 2)\"\n",
    "            next_states.append((new_state, action))\n",
    "\n",
    "        if jug1 > 0:\n",
    "            new_state = (0, jug2)\n",
    "            action = \"Empty 4-gallon jug (Rule 5)\"\n",
    "            next_states.append((new_state, action))\n",
    "\n",
    "        if jug2 > 0:\n",
    "            new_state = (jug1, 0)\n",
    "            action = \"Empty 3-gallon jug (Rule 6)\"\n",
    "            next_states.append((new_state, action))\n",
    "\n",
    "        if (jug1 + jug2 >= capacity1) and (jug2 > 0):\n",
    "            amount_poured = min(jug2, capacity1 - jug1)\n",
    "            new_j1 = jug1 + amount_poured\n",
    "            new_j2 = jug2 - amount_poured\n",
    "            new_state = (new_j1, new_j2)\n",
    "            action = f\"Pour {amount_poured} from 3-gallon to 4-gallon jug until full (Rule 7)\"\n",
    "            next_states.append((new_state, action))\n",
    "\n",
    "        if (jug1 + jug2 >= capacity2) and (jug1 > 0):\n",
    "            amount_poured = min(jug1, capacity2 - jug2)\n",
    "            new_j1 = jug1 - amount_poured\n",
    "            new_j2 = jug2 + amount_poured\n",
    "            new_state = (new_j1, new_j2)\n",
    "            action = f\"Pour {amount_poured} from 4-gallon to 3-gallon jug until full (Rule 8)\"\n",
    "            next_states.append((new_state, action))\n",
    "\n",
    "        if (jug1 + jug2 <= capacity1) and (jug2 > 0):\n",
    "            new_state = (jug1 + jug2, 0)\n",
    "            action = \"Pour all from 3-gallon to 4-gallon jug (Rule 9)\"\n",
    "            next_states.append((new_state, action))\n",
    "\n",
    "        if (jug1 + jug2 <= capacity2) and (jug1 > 0):\n",
    "            new_state = (0, jug1 + jug2)\n",
    "            action = \"Pour all from 4-gallon to 3-gallon jug (Rule 10)\"\n",
    "            next_states.append((new_state, action))\n",
    "\n",
    "        next_states.reverse()\n",
    "\n",
    "        for state, action in next_states:\n",
    "            if state not in visited:\n",
    "                new_path = path.copy()\n",
    "                new_path.append(action)\n",
    "                visited.add(state)\n",
    "                stack.append((state[0], state[1], new_path))\n",
    "\n",
    "    print(\"No solution exists.\")\n",
    "    return False"
   ]
  },
  {
   "cell_type": "code",
   "execution_count": 3,
   "id": "a02dc8e6-1b09-454d-b27f-ab7daed10623",
   "metadata": {},
   "outputs": [
    {
     "name": "stdout",
     "output_type": "stream",
     "text": [
      "Solution Found!\n",
      "\n",
      "Steps:\n",
      "Fill 4-gallon jug (Rule 1)\n",
      "Pour 5 from 4-gallon to 3-gallon jug until full (Rule 8)\n",
      "Empty 3-gallon jug (Rule 6)\n",
      "Pour all from 4-gallon to 3-gallon jug (Rule 10)\n",
      "Fill 4-gallon jug (Rule 1)\n",
      "Pour 3 from 4-gallon to 3-gallon jug until full (Rule 8)\n",
      "Empty 3-gallon jug (Rule 6)\n",
      "Pour all from 4-gallon to 3-gallon jug (Rule 10)\n",
      "Fill 4-gallon jug (Rule 1)\n",
      "Pour 1 from 4-gallon to 3-gallon jug until full (Rule 8)\n",
      "Empty 3-gallon jug (Rule 6)\n",
      "Pour 5 from 4-gallon to 3-gallon jug until full (Rule 8)\n",
      "Final State: (1, 5)\n"
     ]
    },
    {
     "data": {
      "text/plain": [
       "True"
      ]
     },
     "execution_count": 3,
     "metadata": {},
     "output_type": "execute_result"
    }
   ],
   "source": [
    "jug1Capacity = 7\n",
    "jug2Capacity = 5\n",
    "target = 1\n",
    "waterJugProblem(jug1Capacity, jug2Capacity, target)"
   ]
  },
  {
   "cell_type": "code",
   "execution_count": null,
   "id": "dce8948e",
   "metadata": {},
   "outputs": [],
   "source": []
  }
 ],
 "metadata": {
  "kernelspec": {
   "display_name": "Python 3",
   "language": "python",
   "name": "python3"
  },
  "language_info": {
   "codemirror_mode": {
    "name": "ipython",
    "version": 3
   },
   "file_extension": ".py",
   "mimetype": "text/x-python",
   "name": "python",
   "nbconvert_exporter": "python",
   "pygments_lexer": "ipython3",
   "version": "3.12.0"
  }
 },
 "nbformat": 4,
 "nbformat_minor": 5
}
