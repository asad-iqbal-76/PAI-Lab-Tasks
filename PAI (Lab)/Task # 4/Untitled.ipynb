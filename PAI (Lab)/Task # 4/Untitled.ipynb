{
 "cells": [
  {
   "cell_type": "code",
   "execution_count": 3,
   "id": "2c92806d-e2fe-4dfd-976d-9675ec4ec9e5",
   "metadata": {},
   "outputs": [],
   "source": [
    "def safe(board, row, col):\n",
    "    for r in range(row):\n",
    "        if board[r] == col or abs(r - row) == abs(board[r] - col):\n",
    "            return False\n",
    "    return True\n",
    "\n",
    "def solve_n_queens(n):\n",
    "    board = [-1] * n  \n",
    "    \n",
    "    def backtrack(row):\n",
    "        if row == n:\n",
    "            return True  \n",
    "            \n",
    "        for col in range(n):\n",
    "            if safe(board, row, col):\n",
    "                board[row] = col\n",
    "                if backtrack(row + 1):\n",
    "                    return True\n",
    "                board[row] = -1 \n",
    "        return False\n",
    "    return board if backtrack(0) else None\n",
    "\n",
    "def print_board(solution):\n",
    "    n = len(solution)\n",
    "    for row in solution:\n",
    "        line = ['.'] * n\n",
    "        line[row] = 'Q'\n",
    "        print(' '.join(line))\n",
    "\n",
    "def main():\n",
    "    while True:\n",
    "        try:\n",
    "            n = int(input(\"\\nEnter chessboard size (N > 0): \"))\n",
    "            if n <= 0:\n",
    "                print(\"Please enter a positive integer.\")\n",
    "                continue\n",
    "            break\n",
    "        except ValueError:\n",
    "            print(\"Invalid input. Please enter an integer.\")\n",
    "    solution = solve_n_queens(n)\n",
    "    if solution:\n",
    "        print(f\"\\nSolution for {n}x{n} chessboard:\")\n",
    "        print_board(solution)\n",
    "    else:\n",
    "        print(f\"\\nNo solution exists for {n}x{n} chessboard.\")"
   ]
  },
  {
   "cell_type": "code",
   "execution_count": 4,
   "id": "ff2f1a0b",
   "metadata": {},
   "outputs": [
    {
     "name": "stdout",
     "output_type": "stream",
     "text": [
      "\n",
      "Solution for 5x5 chessboard:\n",
      "Q . . . .\n",
      ". . Q . .\n",
      ". . . . Q\n",
      ". Q . . .\n",
      ". . . Q .\n"
     ]
    }
   ],
   "source": [
    "main()"
   ]
  },
  {
   "cell_type": "code",
   "execution_count": null,
   "id": "3be7faf6",
   "metadata": {},
   "outputs": [],
   "source": []
  }
 ],
 "metadata": {
  "kernelspec": {
   "display_name": "Python 3",
   "language": "python",
   "name": "python3"
  },
  "language_info": {
   "codemirror_mode": {
    "name": "ipython",
    "version": 3
   },
   "file_extension": ".py",
   "mimetype": "text/x-python",
   "name": "python",
   "nbconvert_exporter": "python",
   "pygments_lexer": "ipython3",
   "version": "3.12.0"
  }
 },
 "nbformat": 4,
 "nbformat_minor": 5
}
