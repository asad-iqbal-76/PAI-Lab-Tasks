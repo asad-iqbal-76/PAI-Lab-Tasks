{
 "cells": [
  {
   "cell_type": "markdown",
   "id": "1893309e",
   "metadata": {},
   "source": [
    "# Step 1: Importing Libraries"
   ]
  },
  {
   "cell_type": "code",
   "execution_count": 84,
   "id": "028cc35f",
   "metadata": {},
   "outputs": [],
   "source": [
    "import pandas as pd\n",
    "import numpy as np\n",
    "import re  \n",
    "from sklearn.model_selection import train_test_split\n",
    "from tensorflow.keras.preprocessing.text import Tokenizer\n",
    "from tensorflow.keras.preprocessing.sequence import pad_sequences\n",
    "from tensorflow.keras.models import Sequential\n",
    "from tensorflow.keras.layers import LSTM, Dense, Embedding, Dropout, Bidirectional\n",
    "from tensorflow.keras.callbacks import EarlyStopping"
   ]
  },
  {
   "cell_type": "markdown",
   "id": "3211627b",
   "metadata": {},
   "source": [
    "# Loading dataset"
   ]
  },
  {
   "cell_type": "code",
   "execution_count": 51,
   "id": "58e7006c",
   "metadata": {},
   "outputs": [
    {
     "name": "stdout",
     "output_type": "stream",
     "text": [
      "Columns in the dataset:\n"
     ]
    }
   ],
   "source": [
    "data = pd.read_csv('swiggy.csv')\n",
    "print(\"Columns in the dataset:\")"
   ]
  },
  {
   "cell_type": "code",
   "execution_count": 52,
   "id": "dcb1d013",
   "metadata": {},
   "outputs": [
    {
     "data": {
      "text/html": [
       "<div>\n",
       "<style scoped>\n",
       "    .dataframe tbody tr th:only-of-type {\n",
       "        vertical-align: middle;\n",
       "    }\n",
       "\n",
       "    .dataframe tbody tr th {\n",
       "        vertical-align: top;\n",
       "    }\n",
       "\n",
       "    .dataframe thead th {\n",
       "        text-align: right;\n",
       "    }\n",
       "</style>\n",
       "<table border=\"1\" class=\"dataframe\">\n",
       "  <thead>\n",
       "    <tr style=\"text-align: right;\">\n",
       "      <th></th>\n",
       "      <th>ID</th>\n",
       "      <th>Area</th>\n",
       "      <th>City</th>\n",
       "      <th>Restaurant Price</th>\n",
       "      <th>Avg Rating</th>\n",
       "      <th>Total Rating</th>\n",
       "      <th>Food Item</th>\n",
       "      <th>Food Type</th>\n",
       "      <th>Delivery Time</th>\n",
       "      <th>Review</th>\n",
       "    </tr>\n",
       "  </thead>\n",
       "  <tbody>\n",
       "    <tr>\n",
       "      <th>0</th>\n",
       "      <td>1</td>\n",
       "      <td>Suburb</td>\n",
       "      <td>Ahmedabad</td>\n",
       "      <td>600</td>\n",
       "      <td>4.2</td>\n",
       "      <td>6198</td>\n",
       "      <td>Sushi</td>\n",
       "      <td>Fast Food</td>\n",
       "      <td>30-40 min</td>\n",
       "      <td>Good, but nothing extraordinary.</td>\n",
       "    </tr>\n",
       "    <tr>\n",
       "      <th>1</th>\n",
       "      <td>2</td>\n",
       "      <td>Business District</td>\n",
       "      <td>Pune</td>\n",
       "      <td>200</td>\n",
       "      <td>4.7</td>\n",
       "      <td>4865</td>\n",
       "      <td>Pepperoni Pizza</td>\n",
       "      <td>Non-Vegetarian</td>\n",
       "      <td>50-60 min</td>\n",
       "      <td>Good, but nothing extraordinary.</td>\n",
       "    </tr>\n",
       "    <tr>\n",
       "      <th>2</th>\n",
       "      <td>3</td>\n",
       "      <td>Suburb</td>\n",
       "      <td>Bangalore</td>\n",
       "      <td>600</td>\n",
       "      <td>4.7</td>\n",
       "      <td>2095</td>\n",
       "      <td>Waffles</td>\n",
       "      <td>Fast Food</td>\n",
       "      <td>50-60 min</td>\n",
       "      <td>Late delivery ruined it.</td>\n",
       "    </tr>\n",
       "    <tr>\n",
       "      <th>3</th>\n",
       "      <td>4</td>\n",
       "      <td>Business District</td>\n",
       "      <td>Mumbai</td>\n",
       "      <td>900</td>\n",
       "      <td>4.0</td>\n",
       "      <td>6639</td>\n",
       "      <td>Sushi</td>\n",
       "      <td>Vegetarian</td>\n",
       "      <td>50-60 min</td>\n",
       "      <td>Best meal I've had in a while!</td>\n",
       "    </tr>\n",
       "    <tr>\n",
       "      <th>4</th>\n",
       "      <td>5</td>\n",
       "      <td>Tech Park</td>\n",
       "      <td>Mumbai</td>\n",
       "      <td>200</td>\n",
       "      <td>4.7</td>\n",
       "      <td>6926</td>\n",
       "      <td>Spring Rolls</td>\n",
       "      <td>Gluten-Free</td>\n",
       "      <td>20-30 min</td>\n",
       "      <td>Mediocre experience.</td>\n",
       "    </tr>\n",
       "  </tbody>\n",
       "</table>\n",
       "</div>"
      ],
      "text/plain": [
       "   ID               Area       City  Restaurant Price  Avg Rating  \\\n",
       "0   1             Suburb  Ahmedabad               600         4.2   \n",
       "1   2  Business District       Pune               200         4.7   \n",
       "2   3             Suburb  Bangalore               600         4.7   \n",
       "3   4  Business District     Mumbai               900         4.0   \n",
       "4   5          Tech Park     Mumbai               200         4.7   \n",
       "\n",
       "   Total Rating        Food Item       Food Type Delivery Time  \\\n",
       "0          6198            Sushi       Fast Food     30-40 min   \n",
       "1          4865  Pepperoni Pizza  Non-Vegetarian     50-60 min   \n",
       "2          2095          Waffles       Fast Food     50-60 min   \n",
       "3          6639            Sushi      Vegetarian     50-60 min   \n",
       "4          6926     Spring Rolls     Gluten-Free     20-30 min   \n",
       "\n",
       "                             Review  \n",
       "0  Good, but nothing extraordinary.  \n",
       "1  Good, but nothing extraordinary.  \n",
       "2          Late delivery ruined it.  \n",
       "3    Best meal I've had in a while!  \n",
       "4              Mediocre experience.  "
      ]
     },
     "execution_count": 52,
     "metadata": {},
     "output_type": "execute_result"
    }
   ],
   "source": [
    "data.head()"
   ]
  },
  {
   "cell_type": "code",
   "execution_count": 53,
   "id": "42a27a50",
   "metadata": {},
   "outputs": [
    {
     "name": "stdout",
     "output_type": "stream",
     "text": [
      "['ID', 'Area', 'City', 'Restaurant Price', 'Avg Rating', 'Total Rating', 'Food Item', 'Food Type', 'Delivery Time', 'Review']\n"
     ]
    }
   ],
   "source": [
    "print(data.columns.tolist())"
   ]
  },
  {
   "cell_type": "markdown",
   "id": "9ab34613",
   "metadata": {},
   "source": [
    "# Preprocessing"
   ]
  },
  {
   "cell_type": "code",
   "execution_count": 58,
   "id": "fc6af0eb",
   "metadata": {},
   "outputs": [],
   "source": [
    "data[\"Review\"] = data[\"Review\"].str.lower()\n",
    "data[\"Review\"] = data[\"Review\"].replace(r'[^a-z0-9\\s]', '', regex=True)"
   ]
  },
  {
   "cell_type": "code",
   "execution_count": 64,
   "id": "fccbec13",
   "metadata": {},
   "outputs": [],
   "source": [
    "data['sentiment'] = data['Avg Rating'].apply(lambda x: 1 if x > 3.5 else 0)"
   ]
  },
  {
   "cell_type": "code",
   "execution_count": 65,
   "id": "bb35b698",
   "metadata": {},
   "outputs": [],
   "source": [
    "data = data.dropna() "
   ]
  },
  {
   "cell_type": "markdown",
   "id": "fd78a451",
   "metadata": {},
   "source": [
    "# Tokenization and Padding"
   ]
  },
  {
   "cell_type": "code",
   "execution_count": 66,
   "id": "9546e3ce",
   "metadata": {},
   "outputs": [],
   "source": [
    "max_features = 5000  \n",
    "max_length = 200    "
   ]
  },
  {
   "cell_type": "code",
   "execution_count": 67,
   "id": "e8b5d3d6",
   "metadata": {},
   "outputs": [],
   "source": [
    "tokenizer = Tokenizer(num_words=max_features)\n",
    "tokenizer.fit_on_texts(data[\"Review\"])\n",
    "X = pad_sequences(tokenizer.texts_to_sequences(data[\"Review\"]), maxlen=max_length)\n",
    "y = data['sentiment'].values"
   ]
  },
  {
   "cell_type": "markdown",
   "id": "61fd14ee",
   "metadata": {},
   "source": [
    "# Data Splitting"
   ]
  },
  {
   "cell_type": "code",
   "execution_count": 68,
   "id": "459b8b4b",
   "metadata": {},
   "outputs": [],
   "source": [
    "X_train, X_test, y_train, y_test = train_test_split(\n",
    "    X, y, test_size=0.2, random_state=42, stratify=y\n",
    ")\n",
    "\n",
    "X_train, X_val, y_train, y_val = train_test_split(\n",
    "    X_train, y_train, test_size=0.1, random_state=42, stratify=y_train\n",
    ")"
   ]
  },
  {
   "cell_type": "markdown",
   "id": "f553b8db",
   "metadata": {},
   "source": [
    "# Define the model"
   ]
  },
  {
   "cell_type": "code",
   "execution_count": 70,
   "id": "f785283a",
   "metadata": {},
   "outputs": [],
   "source": [
    "model = Sequential([\n",
    "    Embedding(input_dim=max_features, output_dim=64),\n",
    "    SimpleRNN(64, activation='tanh', return_sequences=False),\n",
    "    Dropout(0.5),\n",
    "    Dense(1, activation='sigmoid')\n",
    "])"
   ]
  },
  {
   "cell_type": "markdown",
   "id": "91fe9395",
   "metadata": {},
   "source": [
    "# Compile the mode"
   ]
  },
  {
   "cell_type": "code",
   "execution_count": 71,
   "id": "ce57e4b0",
   "metadata": {},
   "outputs": [],
   "source": [
    "model.compile(\n",
    "    loss='binary_crossentropy',\n",
    "    optimizer='adam',\n",
    "    metrics=['accuracy']\n",
    ")"
   ]
  },
  {
   "cell_type": "markdown",
   "id": "5f23c76a",
   "metadata": {},
   "source": [
    "# Train the model"
   ]
  },
  {
   "cell_type": "code",
   "execution_count": 72,
   "id": "d3b86ae7",
   "metadata": {},
   "outputs": [
    {
     "name": "stdout",
     "output_type": "stream",
     "text": [
      "Epoch 1/10\n",
      "\u001b[1m180/180\u001b[0m \u001b[32m━━━━━━━━━━━━━━━━━━━━\u001b[0m\u001b[37m\u001b[0m \u001b[1m14s\u001b[0m 44ms/step - accuracy: 0.6758 - loss: 0.6297 - val_accuracy: 0.7156 - val_loss: 0.6022\n",
      "Epoch 2/10\n",
      "\u001b[1m180/180\u001b[0m \u001b[32m━━━━━━━━━━━━━━━━━━━━\u001b[0m\u001b[37m\u001b[0m \u001b[1m8s\u001b[0m 46ms/step - accuracy: 0.7233 - loss: 0.5998 - val_accuracy: 0.7156 - val_loss: 0.5972\n",
      "Epoch 3/10\n",
      "\u001b[1m180/180\u001b[0m \u001b[32m━━━━━━━━━━━━━━━━━━━━\u001b[0m\u001b[37m\u001b[0m \u001b[1m6s\u001b[0m 34ms/step - accuracy: 0.7174 - loss: 0.5980 - val_accuracy: 0.7156 - val_loss: 0.5957\n",
      "Epoch 4/10\n",
      "\u001b[1m180/180\u001b[0m \u001b[32m━━━━━━━━━━━━━━━━━━━━\u001b[0m\u001b[37m\u001b[0m \u001b[1m6s\u001b[0m 36ms/step - accuracy: 0.6880 - loss: 0.6271 - val_accuracy: 0.7156 - val_loss: 0.6172\n",
      "Epoch 5/10\n",
      "\u001b[1m180/180\u001b[0m \u001b[32m━━━━━━━━━━━━━━━━━━━━\u001b[0m\u001b[37m\u001b[0m \u001b[1m7s\u001b[0m 36ms/step - accuracy: 0.6379 - loss: 0.6659 - val_accuracy: 0.7156 - val_loss: 0.5980\n"
     ]
    }
   ],
   "source": [
    "early_stop = EarlyStopping(monitor='val_loss', patience=2, restore_best_weights=True)\n",
    "\n",
    "history = model.fit(\n",
    "    X_train, y_train,\n",
    "    epochs=10,\n",
    "    batch_size=32,\n",
    "    validation_data=(X_val, y_val),\n",
    "    callbacks=[early_stop],\n",
    "    shuffle=True,\n",
    "    verbose=1\n",
    ")"
   ]
  },
  {
   "cell_type": "markdown",
   "id": "960a5608",
   "metadata": {},
   "source": [
    "# Evaluate the Model"
   ]
  },
  {
   "cell_type": "code",
   "execution_count": 73,
   "id": "81432f71",
   "metadata": {},
   "outputs": [
    {
     "name": "stdout",
     "output_type": "stream",
     "text": [
      "Test accuracy: 0.72\n"
     ]
    }
   ],
   "source": [
    "score = model.evaluate(X_test, y_test, verbose=0)\n",
    "print(f\"Test accuracy: {score[1]:.2f}\")"
   ]
  },
  {
   "cell_type": "markdown",
   "id": "fc4eb358",
   "metadata": {},
   "source": [
    "# Predicting sentiment"
   ]
  },
  {
   "cell_type": "code",
   "execution_count": 74,
   "id": "d82118e2",
   "metadata": {},
   "outputs": [],
   "source": [
    "def predict_sentiment(review_text):\n",
    "    text = review_text.lower()\n",
    "    text = re.sub(r'[^a-z0-9\\s]', '', text)\n",
    "\n",
    "    seq = tokenizer.texts_to_sequences([text])\n",
    "    padded = pad_sequences(seq, maxlen=max_length)\n",
    "\n",
    "    prediction = model.predict(padded)[0][0]\n",
    "    return f\"{'Positive' if prediction >= 0.5 else 'Negative'} (Probability: {prediction:.2f})\""
   ]
  },
  {
   "cell_type": "markdown",
   "id": "40885c44",
   "metadata": {},
   "source": [
    "# Sample usage"
   ]
  },
  {
   "cell_type": "code",
   "execution_count": 75,
   "id": "b04b125b",
   "metadata": {},
   "outputs": [
    {
     "name": "stdout",
     "output_type": "stream",
     "text": [
      "Review: The food was great.\n"
     ]
    },
    {
     "name": "stdout",
     "output_type": "stream",
     "text": [
      "\u001b[1m1/1\u001b[0m \u001b[32m━━━━━━━━━━━━━━━━━━━━\u001b[0m\u001b[37m\u001b[0m \u001b[1m1s\u001b[0m 607ms/step\n",
      "Sentiment: Positive (Probability: 0.66)\n"
     ]
    }
   ],
   "source": [
    "sample_review = \"The food was great.\"\n",
    "print(f\"Review: {sample_review}\")\n",
    "print(f\"Sentiment: {predict_sentiment(sample_review)}\")"
   ]
  },
  {
   "cell_type": "code",
   "execution_count": null,
   "id": "22a4381e",
   "metadata": {},
   "outputs": [],
   "source": []
  }
 ],
 "metadata": {
  "kernelspec": {
   "display_name": "Python 3",
   "language": "python",
   "name": "python3"
  },
  "language_info": {
   "codemirror_mode": {
    "name": "ipython",
    "version": 3
   },
   "file_extension": ".py",
   "mimetype": "text/x-python",
   "name": "python",
   "nbconvert_exporter": "python",
   "pygments_lexer": "ipython3",
   "version": "3.12.0"
  }
 },
 "nbformat": 4,
 "nbformat_minor": 5
}
